{
  "nbformat": 4,
  "nbformat_minor": 0,
  "metadata": {
    "colab": {
      "provenance": [],
      "mount_file_id": "16n8zPwfVQLkilNSw1fq6FfWeVGZj195b",
      "authorship_tag": "ABX9TyOVJIZbcMfgrJBhv2uoKxVS",
      "include_colab_link": true
    },
    "kernelspec": {
      "name": "python3",
      "display_name": "Python 3"
    },
    "language_info": {
      "name": "python"
    }
  },
  "cells": [
    {
      "cell_type": "markdown",
      "metadata": {
        "id": "view-in-github",
        "colab_type": "text"
      },
      "source": [
        "<a href=\"https://colab.research.google.com/github/ssandeep630241/image-classification-for-food/blob/main/Untitled19.ipynb\" target=\"_parent\"><img src=\"https://colab.research.google.com/assets/colab-badge.svg\" alt=\"Open In Colab\"/></a>"
      ]
    },
    {
      "cell_type": "code",
      "execution_count": null,
      "metadata": {
        "colab": {
          "base_uri": "https://localhost:8080/"
        },
        "id": "fuqAE9zHOxqL",
        "outputId": "4b34ae81-1873-41e5-d334-d23f137ec0e6"
      },
      "outputs": [
        {
          "output_type": "stream",
          "name": "stdout",
          "text": [
            "Found 195 images belonging to 2 classes.\n",
            "Found 58 images belonging to 2 classes.\n",
            "Epoch 1/25\n",
            "7/7 [==============================] - 74s 11s/step - loss: 0.8057 - accuracy: 0.5231 - val_loss: 0.6894 - val_accuracy: 0.5000\n",
            "Epoch 2/25\n",
            "7/7 [==============================] - 3s 465ms/step - loss: 0.6833 - accuracy: 0.5795 - val_loss: 0.6574 - val_accuracy: 0.6034\n",
            "Epoch 3/25\n",
            "7/7 [==============================] - 4s 483ms/step - loss: 0.6002 - accuracy: 0.6974 - val_loss: 0.6600 - val_accuracy: 0.5345\n",
            "Epoch 4/25\n",
            "7/7 [==============================] - 2s 327ms/step - loss: 0.5968 - accuracy: 0.6769 - val_loss: 0.5245 - val_accuracy: 0.8448\n",
            "Epoch 5/25\n",
            "7/7 [==============================] - 2s 324ms/step - loss: 0.6073 - accuracy: 0.6769 - val_loss: 0.6115 - val_accuracy: 0.6379\n",
            "Epoch 6/25\n",
            "7/7 [==============================] - 2s 330ms/step - loss: 0.5979 - accuracy: 0.6974 - val_loss: 0.6265 - val_accuracy: 0.6034\n",
            "Epoch 7/25\n",
            "7/7 [==============================] - 3s 369ms/step - loss: 0.5965 - accuracy: 0.7077 - val_loss: 0.6001 - val_accuracy: 0.8276\n",
            "Epoch 8/25\n",
            "7/7 [==============================] - 4s 489ms/step - loss: 0.5735 - accuracy: 0.7385 - val_loss: 0.5740 - val_accuracy: 0.6724\n",
            "Epoch 9/25\n",
            "7/7 [==============================] - 3s 348ms/step - loss: 0.5443 - accuracy: 0.7179 - val_loss: 0.5144 - val_accuracy: 0.8276\n",
            "Epoch 10/25\n",
            "7/7 [==============================] - 3s 344ms/step - loss: 0.6416 - accuracy: 0.6615 - val_loss: 0.4651 - val_accuracy: 0.8793\n",
            "Epoch 11/25\n",
            "7/7 [==============================] - 2s 334ms/step - loss: 0.5276 - accuracy: 0.7179 - val_loss: 0.6114 - val_accuracy: 0.6207\n",
            "Epoch 12/25\n",
            "7/7 [==============================] - 2s 330ms/step - loss: 0.5395 - accuracy: 0.7179 - val_loss: 0.5502 - val_accuracy: 0.7586\n",
            "Epoch 13/25\n",
            "7/7 [==============================] - 3s 434ms/step - loss: 0.5372 - accuracy: 0.7385 - val_loss: 0.5573 - val_accuracy: 0.7759\n",
            "Epoch 14/25\n",
            "7/7 [==============================] - 3s 372ms/step - loss: 0.5175 - accuracy: 0.7590 - val_loss: 0.5725 - val_accuracy: 0.7414\n",
            "Epoch 15/25\n",
            "7/7 [==============================] - 2s 317ms/step - loss: 0.4819 - accuracy: 0.7590 - val_loss: 0.4902 - val_accuracy: 0.7759\n",
            "Epoch 16/25\n",
            "7/7 [==============================] - 2s 332ms/step - loss: 0.5379 - accuracy: 0.7179 - val_loss: 0.4950 - val_accuracy: 0.8103\n",
            "Epoch 17/25\n",
            "7/7 [==============================] - 3s 363ms/step - loss: 0.4802 - accuracy: 0.7795 - val_loss: 0.5615 - val_accuracy: 0.7414\n",
            "Epoch 18/25\n",
            "7/7 [==============================] - 4s 478ms/step - loss: 0.4426 - accuracy: 0.8154 - val_loss: 0.5891 - val_accuracy: 0.6379\n",
            "Epoch 19/25\n",
            "7/7 [==============================] - 3s 343ms/step - loss: 0.4746 - accuracy: 0.7897 - val_loss: 0.7397 - val_accuracy: 0.6379\n",
            "Epoch 20/25\n",
            "7/7 [==============================] - 2s 332ms/step - loss: 0.4509 - accuracy: 0.8051 - val_loss: 0.5586 - val_accuracy: 0.7586\n",
            "Epoch 21/25\n",
            "7/7 [==============================] - 4s 495ms/step - loss: 0.4113 - accuracy: 0.8154 - val_loss: 0.6645 - val_accuracy: 0.7414\n",
            "Epoch 22/25\n",
            "7/7 [==============================] - 3s 467ms/step - loss: 0.4256 - accuracy: 0.8154 - val_loss: 0.6399 - val_accuracy: 0.6897\n",
            "Epoch 23/25\n",
            "7/7 [==============================] - 2s 316ms/step - loss: 0.4173 - accuracy: 0.8410 - val_loss: 0.6915 - val_accuracy: 0.6897\n",
            "Epoch 24/25\n",
            "7/7 [==============================] - 3s 355ms/step - loss: 0.3896 - accuracy: 0.8308 - val_loss: 0.6103 - val_accuracy: 0.7414\n",
            "Epoch 25/25\n",
            "7/7 [==============================] - 2s 326ms/step - loss: 0.3811 - accuracy: 0.8410 - val_loss: 0.5551 - val_accuracy: 0.7759\n",
            "1/1 [==============================] - 0s 98ms/step\n",
            "yes\n"
          ]
        }
      ],
      "source": [
        "# Convolutional Neural Network\n",
        "\n",
        "# Importing the libraries\n",
        "import tensorflow as tf\n",
        "from keras.preprocessing.image import ImageDataGenerator\n",
        "tf.__version__\n",
        "\n",
        "# Part 1 - Data Preprocessing\n",
        "\n",
        "# Preprocessing the Training set\n",
        "train_datagen = ImageDataGenerator(rescale = 1./255,\n",
        "                                   shear_range = 0.2,\n",
        "                                   zoom_range = 0.2,\n",
        "                                   horizontal_flip = True)\n",
        "training_set = train_datagen.flow_from_directory('/content/drive/MyDrive/Brain-tumor-classification-using-CNN-master/dataset/training_set',\n",
        "                                                 target_size = (64, 64),\n",
        "                                                 batch_size = 32,\n",
        "                                                 class_mode = 'binary')\n",
        "\n",
        "# Preprocessing the Test set\n",
        "test_datagen = ImageDataGenerator(rescale = 1./255)\n",
        "test_set = test_datagen.flow_from_directory('/content/drive/MyDrive/Brain-tumor-classification-using-CNN-master/dataset/test_set',\n",
        "                                            target_size = (64, 64),\n",
        "                                            batch_size = 32,\n",
        "                                            class_mode = 'binary')\n",
        "\n",
        "# Part 2 - Building the CNN\n",
        "\n",
        "# Initialising the CNN\n",
        "cnn = tf.keras.models.Sequential()\n",
        "\n",
        "# Step 1 - Convolution\n",
        "cnn.add(tf.keras.layers.Conv2D(filters=32, kernel_size=3, activation='relu', input_shape=[64, 64, 3]))\n",
        "\n",
        "# Step 2 - Pooling\n",
        "cnn.add(tf.keras.layers.MaxPool2D(pool_size=2, strides=2))\n",
        "\n",
        "# Adding a second convolutional layer\n",
        "cnn.add(tf.keras.layers.Conv2D(filters=64, kernel_size=3, activation='relu'))\n",
        "cnn.add(tf.keras.layers.MaxPool2D(pool_size=2, strides=2))\n",
        "\n",
        "\n",
        "# Step 3 - Flattening\n",
        "cnn.add(tf.keras.layers.Flatten())\n",
        "\n",
        "# Step 4 - Full Connection\n",
        "cnn.add(tf.keras.layers.Dense(units=128, activation='relu'))\n",
        "\n",
        "# Step 5 - Output Layer\n",
        "cnn.add(tf.keras.layers.Dense(units=1, activation='sigmoid'))\n",
        "\n",
        "# Part 3 - Training the CNN\n",
        "\n",
        "# Compiling the CNN\n",
        "cnn.compile(optimizer = 'adam', loss = 'binary_crossentropy', metrics = ['accuracy'])\n",
        "\n",
        "# Training the CNN on the Training set and evaluating it on the Test set\n",
        "cnn.fit(x = training_set, validation_data = test_set, epochs = 25)\n",
        "\n",
        "# Part 4 - Making a single prediction\n",
        "\n",
        "import numpy as np\n",
        "from keras.preprocessing import image\n",
        "test_image = image.load_img('/content/drive/MyDrive/Brain-tumor-classification-using-CNN-master/dataset/test_set/yes/Y182.JPG', target_size = (64, 64))\n",
        "test_image = image.img_to_array(test_image)\n",
        "test_image = np.expand_dims(test_image, axis = 0)\n",
        "result = cnn.predict(test_image)\n",
        "training_set.class_indices\n",
        "if result[0][0] == 1:\n",
        "    prediction = 'yes'\n",
        "else:\n",
        "    prediction = 'no'\n",
        "print(prediction)"
      ]
    },
    {
      "cell_type": "code",
      "source": [
        "from google.colab import drive\n",
        "drive.mount('/content/drive')"
      ],
      "metadata": {
        "id": "EyA960IPZl6P",
        "colab": {
          "base_uri": "https://localhost:8080/"
        },
        "outputId": "ecd0c6ee-8b23-408b-dd3e-7fa4a2362e55"
      },
      "execution_count": 1,
      "outputs": [
        {
          "output_type": "stream",
          "name": "stdout",
          "text": [
            "Drive already mounted at /content/drive; to attempt to forcibly remount, call drive.mount(\"/content/drive\", force_remount=True).\n"
          ]
        }
      ]
    }
  ]
}