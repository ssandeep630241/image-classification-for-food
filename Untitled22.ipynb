{
  "nbformat": 4,
  "nbformat_minor": 0,
  "metadata": {
    "colab": {
      "provenance": [],
      "authorship_tag": "ABX9TyPrD8vtvppIXDeoryRA5Bgl",
      "include_colab_link": true
    },
    "kernelspec": {
      "name": "ir",
      "display_name": "R"
    },
    "language_info": {
      "name": "R"
    }
  },
  "cells": [
    {
      "cell_type": "markdown",
      "metadata": {
        "id": "view-in-github",
        "colab_type": "text"
      },
      "source": [
        "<a href=\"https://colab.research.google.com/github/ssandeep630241/image-classification-for-food/blob/main/Untitled22.ipynb\" target=\"_parent\"><img src=\"https://colab.research.google.com/assets/colab-badge.svg\" alt=\"Open In Colab\"/></a>"
      ]
    },
    {
      "cell_type": "code",
      "source": [
        "weather <- read.csv(\"/content/weatherAUS.csv\")\n",
        "head(weather)"
      ],
      "metadata": {
        "colab": {
          "base_uri": "https://localhost:8080/",
          "height": 306
        },
        "id": "PVxgN687JNbP",
        "outputId": "90f5a9b2-caf2-4367-f07d-6cf6a64e6876"
      },
      "execution_count": 2,
      "outputs": [
        {
          "output_type": "display_data",
          "data": {
            "text/html": [
              "<table class=\"dataframe\">\n",
              "<caption>A data.frame: 6 × 23</caption>\n",
              "<thead>\n",
              "\t<tr><th></th><th scope=col>Date</th><th scope=col>Location</th><th scope=col>MinTemp</th><th scope=col>MaxTemp</th><th scope=col>Rainfall</th><th scope=col>Evaporation</th><th scope=col>Sunshine</th><th scope=col>WindGustDir</th><th scope=col>WindGustSpeed</th><th scope=col>WindDir9am</th><th scope=col>⋯</th><th scope=col>Humidity9am</th><th scope=col>Humidity3pm</th><th scope=col>Pressure9am</th><th scope=col>Pressure3pm</th><th scope=col>Cloud9am</th><th scope=col>Cloud3pm</th><th scope=col>Temp9am</th><th scope=col>Temp3pm</th><th scope=col>RainToday</th><th scope=col>RainTomorrow</th></tr>\n",
              "\t<tr><th></th><th scope=col>&lt;chr&gt;</th><th scope=col>&lt;chr&gt;</th><th scope=col>&lt;dbl&gt;</th><th scope=col>&lt;dbl&gt;</th><th scope=col>&lt;dbl&gt;</th><th scope=col>&lt;dbl&gt;</th><th scope=col>&lt;dbl&gt;</th><th scope=col>&lt;chr&gt;</th><th scope=col>&lt;int&gt;</th><th scope=col>&lt;chr&gt;</th><th scope=col>⋯</th><th scope=col>&lt;int&gt;</th><th scope=col>&lt;int&gt;</th><th scope=col>&lt;dbl&gt;</th><th scope=col>&lt;dbl&gt;</th><th scope=col>&lt;int&gt;</th><th scope=col>&lt;int&gt;</th><th scope=col>&lt;dbl&gt;</th><th scope=col>&lt;dbl&gt;</th><th scope=col>&lt;chr&gt;</th><th scope=col>&lt;chr&gt;</th></tr>\n",
              "</thead>\n",
              "<tbody>\n",
              "\t<tr><th scope=row>1</th><td>2008-12-01</td><td>Albury</td><td>13.4</td><td>22.9</td><td>0.6</td><td>NA</td><td>NA</td><td>W  </td><td>44</td><td>W  </td><td>⋯</td><td>71</td><td>22</td><td>1007.7</td><td>1007.1</td><td> 8</td><td>NA</td><td>16.9</td><td>21.8</td><td>No</td><td>No</td></tr>\n",
              "\t<tr><th scope=row>2</th><td>2008-12-02</td><td>Albury</td><td> 7.4</td><td>25.1</td><td>0.0</td><td>NA</td><td>NA</td><td>WNW</td><td>44</td><td>NNW</td><td>⋯</td><td>44</td><td>25</td><td>1010.6</td><td>1007.8</td><td>NA</td><td>NA</td><td>17.2</td><td>24.3</td><td>No</td><td>No</td></tr>\n",
              "\t<tr><th scope=row>3</th><td>2008-12-03</td><td>Albury</td><td>12.9</td><td>25.7</td><td>0.0</td><td>NA</td><td>NA</td><td>WSW</td><td>46</td><td>W  </td><td>⋯</td><td>38</td><td>30</td><td>1007.6</td><td>1008.7</td><td>NA</td><td> 2</td><td>21.0</td><td>23.2</td><td>No</td><td>No</td></tr>\n",
              "\t<tr><th scope=row>4</th><td>2008-12-04</td><td>Albury</td><td> 9.2</td><td>28.0</td><td>0.0</td><td>NA</td><td>NA</td><td>NE </td><td>24</td><td>SE </td><td>⋯</td><td>45</td><td>16</td><td>1017.6</td><td>1012.8</td><td>NA</td><td>NA</td><td>18.1</td><td>26.5</td><td>No</td><td>No</td></tr>\n",
              "\t<tr><th scope=row>5</th><td>2008-12-05</td><td>Albury</td><td>17.5</td><td>32.3</td><td>1.0</td><td>NA</td><td>NA</td><td>W  </td><td>41</td><td>ENE</td><td>⋯</td><td>82</td><td>33</td><td>1010.8</td><td>1006.0</td><td> 7</td><td> 8</td><td>17.8</td><td>29.7</td><td>No</td><td>No</td></tr>\n",
              "\t<tr><th scope=row>6</th><td>2008-12-06</td><td>Albury</td><td>14.6</td><td>29.7</td><td>0.2</td><td>NA</td><td>NA</td><td>WNW</td><td>56</td><td>W  </td><td>⋯</td><td>55</td><td>23</td><td>1009.2</td><td>1005.4</td><td>NA</td><td>NA</td><td>20.6</td><td>28.9</td><td>No</td><td>No</td></tr>\n",
              "</tbody>\n",
              "</table>\n"
            ],
            "text/markdown": "\nA data.frame: 6 × 23\n\n| <!--/--> | Date &lt;chr&gt; | Location &lt;chr&gt; | MinTemp &lt;dbl&gt; | MaxTemp &lt;dbl&gt; | Rainfall &lt;dbl&gt; | Evaporation &lt;dbl&gt; | Sunshine &lt;dbl&gt; | WindGustDir &lt;chr&gt; | WindGustSpeed &lt;int&gt; | WindDir9am &lt;chr&gt; | ⋯ ⋯ | Humidity9am &lt;int&gt; | Humidity3pm &lt;int&gt; | Pressure9am &lt;dbl&gt; | Pressure3pm &lt;dbl&gt; | Cloud9am &lt;int&gt; | Cloud3pm &lt;int&gt; | Temp9am &lt;dbl&gt; | Temp3pm &lt;dbl&gt; | RainToday &lt;chr&gt; | RainTomorrow &lt;chr&gt; |\n|---|---|---|---|---|---|---|---|---|---|---|---|---|---|---|---|---|---|---|---|---|---|\n| 1 | 2008-12-01 | Albury | 13.4 | 22.9 | 0.6 | NA | NA | W   | 44 | W   | ⋯ | 71 | 22 | 1007.7 | 1007.1 |  8 | NA | 16.9 | 21.8 | No | No |\n| 2 | 2008-12-02 | Albury |  7.4 | 25.1 | 0.0 | NA | NA | WNW | 44 | NNW | ⋯ | 44 | 25 | 1010.6 | 1007.8 | NA | NA | 17.2 | 24.3 | No | No |\n| 3 | 2008-12-03 | Albury | 12.9 | 25.7 | 0.0 | NA | NA | WSW | 46 | W   | ⋯ | 38 | 30 | 1007.6 | 1008.7 | NA |  2 | 21.0 | 23.2 | No | No |\n| 4 | 2008-12-04 | Albury |  9.2 | 28.0 | 0.0 | NA | NA | NE  | 24 | SE  | ⋯ | 45 | 16 | 1017.6 | 1012.8 | NA | NA | 18.1 | 26.5 | No | No |\n| 5 | 2008-12-05 | Albury | 17.5 | 32.3 | 1.0 | NA | NA | W   | 41 | ENE | ⋯ | 82 | 33 | 1010.8 | 1006.0 |  7 |  8 | 17.8 | 29.7 | No | No |\n| 6 | 2008-12-06 | Albury | 14.6 | 29.7 | 0.2 | NA | NA | WNW | 56 | W   | ⋯ | 55 | 23 | 1009.2 | 1005.4 | NA | NA | 20.6 | 28.9 | No | No |\n\n",
            "text/latex": "A data.frame: 6 × 23\n\\begin{tabular}{r|lllllllllllllllllllll}\n  & Date & Location & MinTemp & MaxTemp & Rainfall & Evaporation & Sunshine & WindGustDir & WindGustSpeed & WindDir9am & ⋯ & Humidity9am & Humidity3pm & Pressure9am & Pressure3pm & Cloud9am & Cloud3pm & Temp9am & Temp3pm & RainToday & RainTomorrow\\\\\n  & <chr> & <chr> & <dbl> & <dbl> & <dbl> & <dbl> & <dbl> & <chr> & <int> & <chr> & ⋯ & <int> & <int> & <dbl> & <dbl> & <int> & <int> & <dbl> & <dbl> & <chr> & <chr>\\\\\n\\hline\n\t1 & 2008-12-01 & Albury & 13.4 & 22.9 & 0.6 & NA & NA & W   & 44 & W   & ⋯ & 71 & 22 & 1007.7 & 1007.1 &  8 & NA & 16.9 & 21.8 & No & No\\\\\n\t2 & 2008-12-02 & Albury &  7.4 & 25.1 & 0.0 & NA & NA & WNW & 44 & NNW & ⋯ & 44 & 25 & 1010.6 & 1007.8 & NA & NA & 17.2 & 24.3 & No & No\\\\\n\t3 & 2008-12-03 & Albury & 12.9 & 25.7 & 0.0 & NA & NA & WSW & 46 & W   & ⋯ & 38 & 30 & 1007.6 & 1008.7 & NA &  2 & 21.0 & 23.2 & No & No\\\\\n\t4 & 2008-12-04 & Albury &  9.2 & 28.0 & 0.0 & NA & NA & NE  & 24 & SE  & ⋯ & 45 & 16 & 1017.6 & 1012.8 & NA & NA & 18.1 & 26.5 & No & No\\\\\n\t5 & 2008-12-05 & Albury & 17.5 & 32.3 & 1.0 & NA & NA & W   & 41 & ENE & ⋯ & 82 & 33 & 1010.8 & 1006.0 &  7 &  8 & 17.8 & 29.7 & No & No\\\\\n\t6 & 2008-12-06 & Albury & 14.6 & 29.7 & 0.2 & NA & NA & WNW & 56 & W   & ⋯ & 55 & 23 & 1009.2 & 1005.4 & NA & NA & 20.6 & 28.9 & No & No\\\\\n\\end{tabular}\n",
            "text/plain": [
              "  Date       Location MinTemp MaxTemp Rainfall Evaporation Sunshine WindGustDir\n",
              "1 2008-12-01 Albury   13.4    22.9    0.6      NA          NA       W          \n",
              "2 2008-12-02 Albury    7.4    25.1    0.0      NA          NA       WNW        \n",
              "3 2008-12-03 Albury   12.9    25.7    0.0      NA          NA       WSW        \n",
              "4 2008-12-04 Albury    9.2    28.0    0.0      NA          NA       NE         \n",
              "5 2008-12-05 Albury   17.5    32.3    1.0      NA          NA       W          \n",
              "6 2008-12-06 Albury   14.6    29.7    0.2      NA          NA       WNW        \n",
              "  WindGustSpeed WindDir9am ⋯ Humidity9am Humidity3pm Pressure9am Pressure3pm\n",
              "1 44            W          ⋯ 71          22          1007.7      1007.1     \n",
              "2 44            NNW        ⋯ 44          25          1010.6      1007.8     \n",
              "3 46            W          ⋯ 38          30          1007.6      1008.7     \n",
              "4 24            SE         ⋯ 45          16          1017.6      1012.8     \n",
              "5 41            ENE        ⋯ 82          33          1010.8      1006.0     \n",
              "6 56            W          ⋯ 55          23          1009.2      1005.4     \n",
              "  Cloud9am Cloud3pm Temp9am Temp3pm RainToday RainTomorrow\n",
              "1  8       NA       16.9    21.8    No        No          \n",
              "2 NA       NA       17.2    24.3    No        No          \n",
              "3 NA        2       21.0    23.2    No        No          \n",
              "4 NA       NA       18.1    26.5    No        No          \n",
              "5  7        8       17.8    29.7    No        No          \n",
              "6 NA       NA       20.6    28.9    No        No          "
            ]
          },
          "metadata": {}
        }
      ]
    },
    {
      "cell_type": "code",
      "source": [
        "install.packages(\"caret\")\n",
        "install.packages(\"randomForest\")\n",
        "install.packages(\"e1071\")\n",
        "install.packages(\"class\")\n",
        "install.packages(\"rpart\")\n",
        "install.packages(\"kernlab\")\n",
        "library(caret)\n",
        "library(randomForest)\n",
        "library(e1071)\n",
        "library(class)\n",
        "library(rpart)\n",
        "library(kernlab)"
      ],
      "metadata": {
        "id": "mYQailCPJgDp"
      },
      "execution_count": null,
      "outputs": []
    },
    {
      "cell_type": "code",
      "source": [
        "install.packages('caTools')\n",
        "install.packages('randomForest')\n",
        "library(caTools)\n",
        "library(randomForest)"
      ],
      "metadata": {
        "colab": {
          "base_uri": "https://localhost:8080/"
        },
        "id": "W7oT92MRJja1",
        "outputId": "b55db373-1b79-472d-d225-985df85a786f"
      },
      "execution_count": 3,
      "outputs": [
        {
          "output_type": "stream",
          "name": "stderr",
          "text": [
            "Installing package into ‘/usr/local/lib/R/site-library’\n",
            "(as ‘lib’ is unspecified)\n",
            "\n",
            "also installing the dependency ‘bitops’\n",
            "\n",
            "\n",
            "Installing package into ‘/usr/local/lib/R/site-library’\n",
            "(as ‘lib’ is unspecified)\n",
            "\n",
            "randomForest 4.7-1.1\n",
            "\n",
            "Type rfNews() to see new features/changes/bug fixes.\n",
            "\n"
          ]
        }
      ]
    },
    {
      "source": [
        "\n",
        "# Use R code in a Python notebook\n",
        "\n",
        "install.packages(\"caret\")\n",
        "install.packages(\"randomForest\")\n",
        "install.packages(\"e1071\")\n",
        "install.packages(\"class\")\n",
        "install.packages(\"rpart\")\n",
        "install.packages(\"kernlab\")\n",
        "library(caret)\n",
        "library(randomForest)\n",
        "library(e1071)\n",
        "library(class)\n",
        "library(rpart)\n",
        "library(kernlab)\n",
        "\n",
        "weather <- read.csv(\"/content/weatherAUS.csv\")\n",
        "head(weather)\n",
        "\n",
        "# Use createDataPartition to split the data\n",
        "split_index <- createDataPartition(weather$RainTomorrow, p = 0.8, list = FALSE)\n",
        "training_data <- weather[split_index, ]\n",
        "testing_data <- weather[-split_index, ]"
      ],
      "cell_type": "code",
      "metadata": {
        "colab": {
          "base_uri": "https://localhost:8080/",
          "height": 1000
        },
        "id": "Q6bhXF8QLB00",
        "outputId": "787531e9-a60b-49ce-9ba3-5e4e7186cce7"
      },
      "execution_count": 6,
      "outputs": [
        {
          "output_type": "stream",
          "name": "stderr",
          "text": [
            "Installing package into ‘/usr/local/lib/R/site-library’\n",
            "(as ‘lib’ is unspecified)\n",
            "\n",
            "also installing the dependencies ‘lava’, ‘prodlim’, ‘ipred’, ‘recipes’\n",
            "\n",
            "\n",
            "Installing package into ‘/usr/local/lib/R/site-library’\n",
            "(as ‘lib’ is unspecified)\n",
            "\n",
            "Installing package into ‘/usr/local/lib/R/site-library’\n",
            "(as ‘lib’ is unspecified)\n",
            "\n",
            "Installing package into ‘/usr/local/lib/R/site-library’\n",
            "(as ‘lib’ is unspecified)\n",
            "\n",
            "Installing package into ‘/usr/local/lib/R/site-library’\n",
            "(as ‘lib’ is unspecified)\n",
            "\n",
            "Installing package into ‘/usr/local/lib/R/site-library’\n",
            "(as ‘lib’ is unspecified)\n",
            "\n",
            "Loading required package: ggplot2\n",
            "\n",
            "\n",
            "Attaching package: ‘ggplot2’\n",
            "\n",
            "\n",
            "The following object is masked from ‘package:randomForest’:\n",
            "\n",
            "    margin\n",
            "\n",
            "\n",
            "Loading required package: lattice\n",
            "\n",
            "\n",
            "Attaching package: ‘kernlab’\n",
            "\n",
            "\n",
            "The following object is masked from ‘package:ggplot2’:\n",
            "\n",
            "    alpha\n",
            "\n",
            "\n"
          ]
        },
        {
          "output_type": "display_data",
          "data": {
            "text/html": [
              "<table class=\"dataframe\">\n",
              "<caption>A data.frame: 6 × 23</caption>\n",
              "<thead>\n",
              "\t<tr><th></th><th scope=col>Date</th><th scope=col>Location</th><th scope=col>MinTemp</th><th scope=col>MaxTemp</th><th scope=col>Rainfall</th><th scope=col>Evaporation</th><th scope=col>Sunshine</th><th scope=col>WindGustDir</th><th scope=col>WindGustSpeed</th><th scope=col>WindDir9am</th><th scope=col>⋯</th><th scope=col>Humidity9am</th><th scope=col>Humidity3pm</th><th scope=col>Pressure9am</th><th scope=col>Pressure3pm</th><th scope=col>Cloud9am</th><th scope=col>Cloud3pm</th><th scope=col>Temp9am</th><th scope=col>Temp3pm</th><th scope=col>RainToday</th><th scope=col>RainTomorrow</th></tr>\n",
              "\t<tr><th></th><th scope=col>&lt;chr&gt;</th><th scope=col>&lt;chr&gt;</th><th scope=col>&lt;dbl&gt;</th><th scope=col>&lt;dbl&gt;</th><th scope=col>&lt;dbl&gt;</th><th scope=col>&lt;dbl&gt;</th><th scope=col>&lt;dbl&gt;</th><th scope=col>&lt;chr&gt;</th><th scope=col>&lt;int&gt;</th><th scope=col>&lt;chr&gt;</th><th scope=col>⋯</th><th scope=col>&lt;int&gt;</th><th scope=col>&lt;int&gt;</th><th scope=col>&lt;dbl&gt;</th><th scope=col>&lt;dbl&gt;</th><th scope=col>&lt;int&gt;</th><th scope=col>&lt;int&gt;</th><th scope=col>&lt;dbl&gt;</th><th scope=col>&lt;dbl&gt;</th><th scope=col>&lt;chr&gt;</th><th scope=col>&lt;chr&gt;</th></tr>\n",
              "</thead>\n",
              "<tbody>\n",
              "\t<tr><th scope=row>1</th><td>2008-12-01</td><td>Albury</td><td>13.4</td><td>22.9</td><td>0.6</td><td>NA</td><td>NA</td><td>W  </td><td>44</td><td>W  </td><td>⋯</td><td>71</td><td>22</td><td>1007.7</td><td>1007.1</td><td> 8</td><td>NA</td><td>16.9</td><td>21.8</td><td>No</td><td>No</td></tr>\n",
              "\t<tr><th scope=row>2</th><td>2008-12-02</td><td>Albury</td><td> 7.4</td><td>25.1</td><td>0.0</td><td>NA</td><td>NA</td><td>WNW</td><td>44</td><td>NNW</td><td>⋯</td><td>44</td><td>25</td><td>1010.6</td><td>1007.8</td><td>NA</td><td>NA</td><td>17.2</td><td>24.3</td><td>No</td><td>No</td></tr>\n",
              "\t<tr><th scope=row>3</th><td>2008-12-03</td><td>Albury</td><td>12.9</td><td>25.7</td><td>0.0</td><td>NA</td><td>NA</td><td>WSW</td><td>46</td><td>W  </td><td>⋯</td><td>38</td><td>30</td><td>1007.6</td><td>1008.7</td><td>NA</td><td> 2</td><td>21.0</td><td>23.2</td><td>No</td><td>No</td></tr>\n",
              "\t<tr><th scope=row>4</th><td>2008-12-04</td><td>Albury</td><td> 9.2</td><td>28.0</td><td>0.0</td><td>NA</td><td>NA</td><td>NE </td><td>24</td><td>SE </td><td>⋯</td><td>45</td><td>16</td><td>1017.6</td><td>1012.8</td><td>NA</td><td>NA</td><td>18.1</td><td>26.5</td><td>No</td><td>No</td></tr>\n",
              "\t<tr><th scope=row>5</th><td>2008-12-05</td><td>Albury</td><td>17.5</td><td>32.3</td><td>1.0</td><td>NA</td><td>NA</td><td>W  </td><td>41</td><td>ENE</td><td>⋯</td><td>82</td><td>33</td><td>1010.8</td><td>1006.0</td><td> 7</td><td> 8</td><td>17.8</td><td>29.7</td><td>No</td><td>No</td></tr>\n",
              "\t<tr><th scope=row>6</th><td>2008-12-06</td><td>Albury</td><td>14.6</td><td>29.7</td><td>0.2</td><td>NA</td><td>NA</td><td>WNW</td><td>56</td><td>W  </td><td>⋯</td><td>55</td><td>23</td><td>1009.2</td><td>1005.4</td><td>NA</td><td>NA</td><td>20.6</td><td>28.9</td><td>No</td><td>No</td></tr>\n",
              "</tbody>\n",
              "</table>\n"
            ],
            "text/markdown": "\nA data.frame: 6 × 23\n\n| <!--/--> | Date &lt;chr&gt; | Location &lt;chr&gt; | MinTemp &lt;dbl&gt; | MaxTemp &lt;dbl&gt; | Rainfall &lt;dbl&gt; | Evaporation &lt;dbl&gt; | Sunshine &lt;dbl&gt; | WindGustDir &lt;chr&gt; | WindGustSpeed &lt;int&gt; | WindDir9am &lt;chr&gt; | ⋯ ⋯ | Humidity9am &lt;int&gt; | Humidity3pm &lt;int&gt; | Pressure9am &lt;dbl&gt; | Pressure3pm &lt;dbl&gt; | Cloud9am &lt;int&gt; | Cloud3pm &lt;int&gt; | Temp9am &lt;dbl&gt; | Temp3pm &lt;dbl&gt; | RainToday &lt;chr&gt; | RainTomorrow &lt;chr&gt; |\n|---|---|---|---|---|---|---|---|---|---|---|---|---|---|---|---|---|---|---|---|---|---|\n| 1 | 2008-12-01 | Albury | 13.4 | 22.9 | 0.6 | NA | NA | W   | 44 | W   | ⋯ | 71 | 22 | 1007.7 | 1007.1 |  8 | NA | 16.9 | 21.8 | No | No |\n| 2 | 2008-12-02 | Albury |  7.4 | 25.1 | 0.0 | NA | NA | WNW | 44 | NNW | ⋯ | 44 | 25 | 1010.6 | 1007.8 | NA | NA | 17.2 | 24.3 | No | No |\n| 3 | 2008-12-03 | Albury | 12.9 | 25.7 | 0.0 | NA | NA | WSW | 46 | W   | ⋯ | 38 | 30 | 1007.6 | 1008.7 | NA |  2 | 21.0 | 23.2 | No | No |\n| 4 | 2008-12-04 | Albury |  9.2 | 28.0 | 0.0 | NA | NA | NE  | 24 | SE  | ⋯ | 45 | 16 | 1017.6 | 1012.8 | NA | NA | 18.1 | 26.5 | No | No |\n| 5 | 2008-12-05 | Albury | 17.5 | 32.3 | 1.0 | NA | NA | W   | 41 | ENE | ⋯ | 82 | 33 | 1010.8 | 1006.0 |  7 |  8 | 17.8 | 29.7 | No | No |\n| 6 | 2008-12-06 | Albury | 14.6 | 29.7 | 0.2 | NA | NA | WNW | 56 | W   | ⋯ | 55 | 23 | 1009.2 | 1005.4 | NA | NA | 20.6 | 28.9 | No | No |\n\n",
            "text/latex": "A data.frame: 6 × 23\n\\begin{tabular}{r|lllllllllllllllllllll}\n  & Date & Location & MinTemp & MaxTemp & Rainfall & Evaporation & Sunshine & WindGustDir & WindGustSpeed & WindDir9am & ⋯ & Humidity9am & Humidity3pm & Pressure9am & Pressure3pm & Cloud9am & Cloud3pm & Temp9am & Temp3pm & RainToday & RainTomorrow\\\\\n  & <chr> & <chr> & <dbl> & <dbl> & <dbl> & <dbl> & <dbl> & <chr> & <int> & <chr> & ⋯ & <int> & <int> & <dbl> & <dbl> & <int> & <int> & <dbl> & <dbl> & <chr> & <chr>\\\\\n\\hline\n\t1 & 2008-12-01 & Albury & 13.4 & 22.9 & 0.6 & NA & NA & W   & 44 & W   & ⋯ & 71 & 22 & 1007.7 & 1007.1 &  8 & NA & 16.9 & 21.8 & No & No\\\\\n\t2 & 2008-12-02 & Albury &  7.4 & 25.1 & 0.0 & NA & NA & WNW & 44 & NNW & ⋯ & 44 & 25 & 1010.6 & 1007.8 & NA & NA & 17.2 & 24.3 & No & No\\\\\n\t3 & 2008-12-03 & Albury & 12.9 & 25.7 & 0.0 & NA & NA & WSW & 46 & W   & ⋯ & 38 & 30 & 1007.6 & 1008.7 & NA &  2 & 21.0 & 23.2 & No & No\\\\\n\t4 & 2008-12-04 & Albury &  9.2 & 28.0 & 0.0 & NA & NA & NE  & 24 & SE  & ⋯ & 45 & 16 & 1017.6 & 1012.8 & NA & NA & 18.1 & 26.5 & No & No\\\\\n\t5 & 2008-12-05 & Albury & 17.5 & 32.3 & 1.0 & NA & NA & W   & 41 & ENE & ⋯ & 82 & 33 & 1010.8 & 1006.0 &  7 &  8 & 17.8 & 29.7 & No & No\\\\\n\t6 & 2008-12-06 & Albury & 14.6 & 29.7 & 0.2 & NA & NA & WNW & 56 & W   & ⋯ & 55 & 23 & 1009.2 & 1005.4 & NA & NA & 20.6 & 28.9 & No & No\\\\\n\\end{tabular}\n",
            "text/plain": [
              "  Date       Location MinTemp MaxTemp Rainfall Evaporation Sunshine WindGustDir\n",
              "1 2008-12-01 Albury   13.4    22.9    0.6      NA          NA       W          \n",
              "2 2008-12-02 Albury    7.4    25.1    0.0      NA          NA       WNW        \n",
              "3 2008-12-03 Albury   12.9    25.7    0.0      NA          NA       WSW        \n",
              "4 2008-12-04 Albury    9.2    28.0    0.0      NA          NA       NE         \n",
              "5 2008-12-05 Albury   17.5    32.3    1.0      NA          NA       W          \n",
              "6 2008-12-06 Albury   14.6    29.7    0.2      NA          NA       WNW        \n",
              "  WindGustSpeed WindDir9am ⋯ Humidity9am Humidity3pm Pressure9am Pressure3pm\n",
              "1 44            W          ⋯ 71          22          1007.7      1007.1     \n",
              "2 44            NNW        ⋯ 44          25          1010.6      1007.8     \n",
              "3 46            W          ⋯ 38          30          1007.6      1008.7     \n",
              "4 24            SE         ⋯ 45          16          1017.6      1012.8     \n",
              "5 41            ENE        ⋯ 82          33          1010.8      1006.0     \n",
              "6 56            W          ⋯ 55          23          1009.2      1005.4     \n",
              "  Cloud9am Cloud3pm Temp9am Temp3pm RainToday RainTomorrow\n",
              "1  8       NA       16.9    21.8    No        No          \n",
              "2 NA       NA       17.2    24.3    No        No          \n",
              "3 NA        2       21.0    23.2    No        No          \n",
              "4 NA       NA       18.1    26.5    No        No          \n",
              "5  7        8       17.8    29.7    No        No          \n",
              "6 NA       NA       20.6    28.9    No        No          "
            ]
          },
          "metadata": {}
        },
        {
          "output_type": "stream",
          "name": "stderr",
          "text": [
            "Warning message in createDataPartition(weather$RainTomorrow, p = 0.8, list = FALSE):\n",
            "“Some classes have a single record (  ) and these will be selected for the sample”\n"
          ]
        }
      ]
    },
    {
      "cell_type": "code",
      "source": [
        "weather <- na.omit(weather)\n",
        "\n",
        "# Convert categorical variables to factors\n",
        "weather$RainTomorrow <- as.factor(weather$RainTomorrow)\n",
        "\n",
        "# Split the data into training and testing sets\n",
        "set.seed(123)\n",
        "trainIndex <- createDataPartition(weather$RainTomorrow, p = 0.7, list = FALSE)\n",
        "trainData <- weather[trainIndex,]\n",
        "testData <- weather[-trainIndex,]\n"
      ],
      "metadata": {
        "id": "PeBqGBHAL07G"
      },
      "execution_count": 8,
      "outputs": []
    },
    {
      "cell_type": "code",
      "source": [
        "# prompt: build random forest model for above dataset\n",
        "\n",
        "# Build a Random Forest model\n",
        "rf_model <- randomForest(RainTomorrow ~ ., data = trainData, ntree = 500)\n",
        "\n",
        "# Make predictions on the test data\n",
        "rf_predictions <- predict(rf_model, testData)\n",
        "\n",
        "# Evaluate the model accuracy\n",
        "\n",
        "rf_conf_matrix <- confusionMatrix(rf_predictions, testData$RainTomorrow)\n",
        "cat(\"\\nRandom Forest Confusion Matrix:\\n\")\n",
        "print(rf_conf_matrix)\n"
      ],
      "metadata": {
        "colab": {
          "base_uri": "https://localhost:8080/"
        },
        "id": "VzQhkQugNWAS",
        "outputId": "a18fd744-6d13-4733-90ea-4ac56293b2c2"
      },
      "execution_count": 12,
      "outputs": [
        {
          "output_type": "stream",
          "name": "stdout",
          "text": [
            "\n",
            "Random Forest Confusion Matrix:\n",
            "Confusion Matrix and Statistics\n",
            "\n",
            "          Reference\n",
            "Prediction   No  Yes\n",
            "       No  3427  514\n",
            "       Yes  158  563\n",
            "                                          \n",
            "               Accuracy : 0.8559          \n",
            "                 95% CI : (0.8454, 0.8658)\n",
            "    No Information Rate : 0.769           \n",
            "    P-Value [Acc > NIR] : < 2.2e-16       \n",
            "                                          \n",
            "                  Kappa : 0.5413          \n",
            "                                          \n",
            " Mcnemar's Test P-Value : < 2.2e-16       \n",
            "                                          \n",
            "            Sensitivity : 0.9559          \n",
            "            Specificity : 0.5227          \n",
            "         Pos Pred Value : 0.8696          \n",
            "         Neg Pred Value : 0.7809          \n",
            "             Prevalence : 0.7690          \n",
            "         Detection Rate : 0.7351          \n",
            "   Detection Prevalence : 0.8453          \n",
            "      Balanced Accuracy : 0.7393          \n",
            "                                          \n",
            "       'Positive' Class : No              \n",
            "                                          \n"
          ]
        }
      ]
    },
    {
      "cell_type": "code",
      "source": [
        "accuracy <- mean(rf_predictions == testData$RainTomorrow)\n",
        "print(paste(\"Accuracy:\", accuracy))"
      ],
      "metadata": {
        "colab": {
          "base_uri": "https://localhost:8080/"
        },
        "id": "2yLLVzbmMcXf",
        "outputId": "62252f9e-0833-4e7d-d03d-1f19ad0173d6"
      },
      "execution_count": 13,
      "outputs": [
        {
          "output_type": "stream",
          "name": "stdout",
          "text": [
            "[1] \"Accuracy: 0.855855855855856\"\n"
          ]
        }
      ]
    }
  ]
}