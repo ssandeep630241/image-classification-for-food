{
  "cells": [
    {
      "cell_type": "markdown",
      "metadata": {
        "id": "view-in-github",
        "colab_type": "text"
      },
      "source": [
        "<a href=\"https://colab.research.google.com/github/ssandeep630241/image-classification-for-food/blob/main/Untitled21.ipynb\" target=\"_parent\"><img src=\"https://colab.research.google.com/assets/colab-badge.svg\" alt=\"Open In Colab\"/></a>"
      ]
    },
    {
      "cell_type": "code",
      "execution_count": null,
      "metadata": {
        "colab": {
          "base_uri": "https://localhost:8080/",
          "height": 306
        },
        "id": "Bzt0vVGCY6vg",
        "outputId": "404e524e-e414-442f-ec79-ff8a8f40af7f"
      },
      "outputs": [
        {
          "data": {
            "text/html": [
              "<table class=\"dataframe\">\n",
              "<caption>A data.frame: 6 × 3</caption>\n",
              "<thead>\n",
              "\t<tr><th></th><th scope=col>Age</th><th scope=col>EstimatedSalary</th><th scope=col>Purchased</th></tr>\n",
              "\t<tr><th></th><th scope=col>&lt;int&gt;</th><th scope=col>&lt;int&gt;</th><th scope=col>&lt;int&gt;</th></tr>\n",
              "</thead>\n",
              "<tbody>\n",
              "\t<tr><th scope=row>1</th><td>19</td><td>19000</td><td>0</td></tr>\n",
              "\t<tr><th scope=row>2</th><td>35</td><td>20000</td><td>0</td></tr>\n",
              "\t<tr><th scope=row>3</th><td>26</td><td>43000</td><td>0</td></tr>\n",
              "\t<tr><th scope=row>4</th><td>27</td><td>57000</td><td>0</td></tr>\n",
              "\t<tr><th scope=row>5</th><td>19</td><td>76000</td><td>0</td></tr>\n",
              "\t<tr><th scope=row>6</th><td>27</td><td>58000</td><td>0</td></tr>\n",
              "</tbody>\n",
              "</table>\n"
            ],
            "text/latex": "A data.frame: 6 × 3\n\\begin{tabular}{r|lll}\n  & Age & EstimatedSalary & Purchased\\\\\n  & <int> & <int> & <int>\\\\\n\\hline\n\t1 & 19 & 19000 & 0\\\\\n\t2 & 35 & 20000 & 0\\\\\n\t3 & 26 & 43000 & 0\\\\\n\t4 & 27 & 57000 & 0\\\\\n\t5 & 19 & 76000 & 0\\\\\n\t6 & 27 & 58000 & 0\\\\\n\\end{tabular}\n",
            "text/markdown": "\nA data.frame: 6 × 3\n\n| <!--/--> | Age &lt;int&gt; | EstimatedSalary &lt;int&gt; | Purchased &lt;int&gt; |\n|---|---|---|---|\n| 1 | 19 | 19000 | 0 |\n| 2 | 35 | 20000 | 0 |\n| 3 | 26 | 43000 | 0 |\n| 4 | 27 | 57000 | 0 |\n| 5 | 19 | 76000 | 0 |\n| 6 | 27 | 58000 | 0 |\n\n",
            "text/plain": [
              "  Age EstimatedSalary Purchased\n",
              "1 19  19000           0        \n",
              "2 35  20000           0        \n",
              "3 26  43000           0        \n",
              "4 27  57000           0        \n",
              "5 19  76000           0        \n",
              "6 27  58000           0        "
            ]
          },
          "metadata": {},
          "output_type": "display_data"
        }
      ],
      "source": [
        "# prompt: load data in r tool\n",
        "\n",
        "# Load the data from a CSV file\n",
        "data <- read.csv('/content/Social_Network_Ads.csv')\n",
        "\n",
        "# Display the first few rows of the data\n",
        "head(data)"
      ]
    },
    {
      "cell_type": "code",
      "execution_count": 23,
      "metadata": {
        "colab": {
          "base_uri": "https://localhost:8080/",
          "height": 669
        },
        "id": "8rsajfYidMiq",
        "outputId": "8d010e69-6ed1-45be-caba-6aa5a14d1dec"
      },
      "outputs": [
        {
          "output_type": "stream",
          "name": "stderr",
          "text": [
            "Installing package into ‘/usr/local/lib/R/site-library’\n",
            "(as ‘lib’ is unspecified)\n",
            "\n",
            "Installing package into ‘/usr/local/lib/R/site-library’\n",
            "(as ‘lib’ is unspecified)\n",
            "\n"
          ]
        },
        {
          "output_type": "stream",
          "name": "stdout",
          "text": [
            "glm variable importance\n",
            "\n",
            "                Overall\n",
            "Age               8.984\n",
            "EstimatedSalary   6.659\n",
            "Gender1           1.094\n"
          ]
        },
        {
          "output_type": "display_data",
          "data": {
            "text/plain": [
              "plot without title"
            ],
            "image/png": "[encoded data removed]"
          },
          "metadata": {
            "image/png": {
              "width": 420,
              "height": 420
            }
          }
        }
      ],
      "source": [
        "install.packages('caTools')\n",
        "install.packages('class')\n",
        "# Load packages\n",
        "library(caTools)\n",
        "library(class)\n",
        "\n",
        "# Import data\n",
        "data <- read.csv('/content/Social_Network_Ads.csv')\n",
        "data = data[, 2:5]\n",
        "\n",
        "# Encoding variables\n",
        "# Changing 'male' and 'female' to '1' and '2'\n",
        "data$Gender <- factor(data$Gender,\n",
        "                         levels = c(\"Male\", \"Female\"),\n",
        "                         labels = c(0, 1))\n",
        "\n",
        "# R not reading values as 1 and 0. Reenforcing the values here\n",
        "data$Purchased = factor(data$Purchased,\n",
        "                        levels = c(0, 1))\n",
        "\n",
        "# Feature scaling\n",
        "# Normalizing age and salery data\n",
        "data[, 2] = scale(data[, 2])\n",
        "data[, 3] = scale(data[, 3])\n",
        "\n",
        "# Split data into training and test\n",
        "set.seed(42)\n",
        "split = sample.split(data$Purchased, SplitRatio = 0.75)\n",
        "training_set = subset(data, split == FALSE)\n",
        "test_set = subset(data, split == TRUE)\n",
        "\n",
        "# kNN\n",
        "y_predict = knn(train = training_set[, -4],\n",
        "             test = test_set[, -4],\n",
        "             cl = training_set[, 4],\n",
        "             k = 5)\n",
        "\n",
        "# Confusion Matrix\n",
        "con_matrix = table (test_set[, 4], y_predict)\n",
        "# @ k = 3 11.66%\n",
        "# @ k = 5 11.33%\n",
        "# @ k = 7 12%\n",
        "\n",
        "# Prepare the training scheme\n",
        "# Repeat the training process over and over\n",
        "control = trainControl(method = 'repeatedcv',\n",
        "                       number = 10,\n",
        "                       repeats = 3)\n",
        "\n",
        "# Train the model\n",
        "model = train(Purchased~.,\n",
        "              data = data,\n",
        "              method = 'glm',\n",
        "              preProcess = \"scale\",\n",
        "              trControl = control)\n",
        "\n",
        "# Estimate the importance\n",
        "importance <- varImp(model, scale = FALSE)\n",
        "\n",
        "# Summerize importance\n",
        "print(importance)\n",
        "plot(importance)"
      ]
    },
    {
      "cell_type": "code",
      "source": [
        "# Calculate the accuracy\n",
        "accuracy <- mean(y_predict == test_set[, 4])\n",
        "\n",
        "# Print the accuracy\n",
        "print(paste(\"Accuracy:\", accuracy))"
      ],
      "metadata": {
        "colab": {
          "base_uri": "https://localhost:8080/"
        },
        "id": "9T6mXrgKh2IB",
        "outputId": "4f1d0934-e00e-4a75-c453-f89e3dfb2da3"
      },
      "execution_count": 25,
      "outputs": [
        {
          "output_type": "stream",
          "name": "stdout",
          "text": [
            "[1] \"Accuracy: 0.886666666666667\"\n"
          ]
        }
      ]
    }
  ],
  "metadata": {
    "accelerator": "GPU",
    "colab": {
      "gpuType": "T4",
      "provenance": [],
      "authorship_tag": "ABX9TyOGrzb+Ys0dqGiZUvoe03WX",
      "include_colab_link": true
    },
    "kernelspec": {
      "display_name": "R",
      "name": "ir"
    },
    "language_info": {
      "name": "R"
    }
  },
  "nbformat": 4,
  "nbformat_minor": 0
}